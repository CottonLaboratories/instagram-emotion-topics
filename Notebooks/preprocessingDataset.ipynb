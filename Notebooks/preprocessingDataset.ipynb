{
 "cells": [
  {
   "cell_type": "code",
   "execution_count": 2,
   "id": "be83d5bd-9128-4955-adab-1be000781a5d",
   "metadata": {},
   "outputs": [],
   "source": [
    "import torch\n",
    "import datasets\n",
    "import pandas as pd\n",
    "from tqdm import tqdm\n",
    "from transformers import AutoTokenizer, AutoModelForSeq2SeqLM\n",
    "from transformers import pipeline\n",
    "from datasets import DatasetDict, Dataset\n",
    "from datasets import concatenate_datasets\n",
    "from datasets import load_dataset \n",
    "from transformers import Trainer, TrainingArguments\n",
    "from transformers import AutoTokenizer, DataCollatorWithPadding\n",
    "from transformers import AutoModelForSequenceClassification\n",
    "from sklearn.metrics import accuracy_score, f1_score, precision_score, recall_score"
   ]
  },
  {
   "cell_type": "code",
   "execution_count": 97,
   "id": "5da4b14e-3d41-43c8-9fef-37990f23d504",
   "metadata": {
    "jupyter": {
     "source_hidden": true
    }
   },
   "outputs": [],
   "source": [
    "#notwendige Funktion, um den Datansatz korrekt laden zu können (siehe Warnung im Output der Zeile emotion_dataset = load_dataset(\"dair-ai/emotion\"))\n",
    "import json\n",
    "\n",
    "import datasets\n",
    "from datasets.tasks import TextClassification\n",
    "\n",
    "\n",
    "_CITATION = \"\"\"/\n",
    "@inproceedings{saravia-etal-2018-carer,\n",
    "    title = \"{CARER}: Contextualized Affect Representations for Emotion Recognition\",\n",
    "    author = \"Saravia, Elvis  and\n",
    "      Liu, Hsien-Chi Toby  and\n",
    "      Huang, Yen-Hao  and\n",
    "      Wu, Junlin  and\n",
    "      Chen, Yi-Shin\",\n",
    "    booktitle = \"Proceedings of the 2018 Conference on Empirical Methods in Natural Language Processing\",\n",
    "    month = oct # \"-\" # nov,\n",
    "    year = \"2018\",\n",
    "    address = \"Brussels, Belgium\",\n",
    "    publisher = \"Association for Computational Linguistics\",\n",
    "    url = \"https://www.aclweb.org/anthology/D18-1404\",\n",
    "    doi = \"10.18653/v1/D18-1404\",\n",
    "    pages = \"3687--3697\",\n",
    "    abstract = \"Emotions are expressed in nuanced ways, which varies by collective or individual experiences, knowledge, and beliefs. Therefore, to understand emotion, as conveyed through text, a robust mechanism capable of capturing and modeling different linguistic nuances and phenomena is needed. We propose a semi-supervised, graph-based algorithm to produce rich structural descriptors which serve as the building blocks for constructing contextualized affect representations from text. The pattern-based representations are further enriched with word embeddings and evaluated through several emotion recognition tasks. Our experimental results demonstrate that the proposed method outperforms state-of-the-art techniques on emotion recognition tasks.\",\n",
    "}\n",
    "\"\"\"\n",
    "\n",
    "_DESCRIPTION = \"\"\"/\n",
    "Emotion is a dataset of English Twitter messages with six basic emotions: anger, fear, joy, love, sadness, and surprise. For more detailed information please refer to the paper.\n",
    "\"\"\"\n",
    "\n",
    "_HOMEPAGE = \"https://github.com/dair-ai/emotion_dataset\"\n",
    "\n",
    "_LICENSE = \"The dataset should be used for educational and research purposes only\"\n",
    "\n",
    "_URLS = {\n",
    "    \"split\": {\n",
    "        \"train\": \"data/train.jsonl.gz\",\n",
    "        \"validation\": \"data/validation.jsonl.gz\",\n",
    "        \"test\": \"data/test.jsonl.gz\",\n",
    "    },\n",
    "    \"unsplit\": {\n",
    "        \"train\": \"data/data.jsonl.gz\",\n",
    "    },\n",
    "}\n",
    "\n",
    "\n",
    "class Emotion(datasets.GeneratorBasedBuilder):\n",
    "    VERSION = datasets.Version(\"1.0.0\")\n",
    "    BUILDER_CONFIGS = [\n",
    "        datasets.BuilderConfig(\n",
    "            name=\"split\", version=VERSION, description=\"Dataset split in train, validation and test\"\n",
    "        ),\n",
    "        datasets.BuilderConfig(name=\"unsplit\", version=VERSION, description=\"Unsplit dataset\"),\n",
    "    ]\n",
    "    DEFAULT_CONFIG_NAME = \"split\"\n",
    "\n",
    "    def _info(self):\n",
    "        class_names = [\"sadness\", \"joy\", \"love\", \"anger\", \"fear\", \"surprise\"]\n",
    "        return datasets.DatasetInfo(\n",
    "            description=_DESCRIPTION,\n",
    "            features=datasets.Features(\n",
    "                {\"text\": datasets.Value(\"string\"), \"label\": datasets.ClassLabel(names=class_names)}\n",
    "            ),\n",
    "            supervised_keys=(\"text\", \"label\"),\n",
    "            homepage=_HOMEPAGE,\n",
    "            citation=_CITATION,\n",
    "            license=_LICENSE,\n",
    "            task_templates=[TextClassification(text_column=\"text\", label_column=\"label\")],\n",
    "        )\n",
    "\n",
    "    def _split_generators(self, dl_manager):\n",
    "        \"\"\"Returns SplitGenerators.\"\"\"\n",
    "        paths = dl_manager.download_and_extract(_URLS[self.config.name])\n",
    "        if self.config.name == \"split\":\n",
    "            return [\n",
    "                datasets.SplitGenerator(name=datasets.Split.TRAIN, gen_kwargs={\"filepath\": paths[\"train\"]}),\n",
    "                datasets.SplitGenerator(name=datasets.Split.VALIDATION, gen_kwargs={\"filepath\": paths[\"validation\"]}),\n",
    "                datasets.SplitGenerator(name=datasets.Split.TEST, gen_kwargs={\"filepath\": paths[\"test\"]}),\n",
    "            ]\n",
    "        else:\n",
    "            return [datasets.SplitGenerator(name=datasets.Split.TRAIN, gen_kwargs={\"filepath\": paths[\"train\"]})]\n",
    "\n",
    "    def _generate_examples(self, filepath):\n",
    "        \"\"\"Generate examples.\"\"\"\n",
    "        with open(filepath, encoding=\"utf-8\") as f:\n",
    "            for idx, line in enumerate(f):\n",
    "                example = json.loads(line)\n",
    "                yield idx, example"
   ]
  },
  {
   "cell_type": "code",
   "execution_count": 194,
   "id": "a3c256e4-83d1-406a-b747-cb73017961f2",
   "metadata": {},
   "outputs": [
    {
     "name": "stderr",
     "output_type": "stream",
     "text": [
      "C:\\Users\\JGras\\anaconda3\\Lib\\site-packages\\datasets\\load.py:1461: FutureWarning: The repository for dair-ai/emotion contains custom code which must be executed to correctly load the dataset. You can inspect the repository content at https://hf.co/datasets/dair-ai/emotion\n",
      "You can avoid this message in future by passing the argument `trust_remote_code=True`.\n",
      "Passing `trust_remote_code=True` will be mandatory to load this dataset from the next major release of `datasets`.\n",
      "  warnings.warn(\n"
     ]
    }
   ],
   "source": [
    "# Laden des Datasets von Huggingface\n",
    "emotion_dataset = load_dataset(\"dair-ai/emotion\")"
   ]
  },
  {
   "cell_type": "code",
   "execution_count": 195,
   "id": "5b0f0400-6b89-4490-b4c6-b921cfae7d55",
   "metadata": {},
   "outputs": [
    {
     "data": {
      "text/plain": [
       "DatasetDict({\n",
       "    train: Dataset({\n",
       "        features: ['text', 'label'],\n",
       "        num_rows: 16000\n",
       "    })\n",
       "    validation: Dataset({\n",
       "        features: ['text', 'label'],\n",
       "        num_rows: 2000\n",
       "    })\n",
       "    test: Dataset({\n",
       "        features: ['text', 'label'],\n",
       "        num_rows: 2000\n",
       "    })\n",
       "})"
      ]
     },
     "execution_count": 195,
     "metadata": {},
     "output_type": "execute_result"
    }
   ],
   "source": [
    "emotion_dataset"
   ]
  },
  {
   "cell_type": "code",
   "execution_count": 196,
   "id": "a2fcb381-4dc7-4dd9-84c3-e272bb004747",
   "metadata": {},
   "outputs": [],
   "source": [
    "# Speichern der train-test-validation-splits in pd dfs\n",
    "df_train = pd.DataFrame(emotion_dataset['train'])\n",
    "df_test = pd.DataFrame(emotion_dataset['train'])\n",
    "df_validation = pd.DataFrame(emotion_dataset['validation'])"
   ]
  },
  {
   "cell_type": "code",
   "execution_count": 8,
   "id": "b7937284-a69c-4bdf-b3d7-a9c3696dbae9",
   "metadata": {},
   "outputs": [],
   "source": [
    "# Zusammenführen der dfs\n",
    "df_set = pd.concat([df_train, df_test, df_validation], ignore_index=True)"
   ]
  },
  {
   "cell_type": "code",
   "execution_count": 12,
   "id": "b31cd15c-3d9a-4931-8818-957f0aed84e2",
   "metadata": {},
   "outputs": [],
   "source": [
    "# Speichern des dfs als csv --> die weitere Verarbeitung und Übersetzung des Datasets ist dem Notebook \"gpt_translator.ipynb\" zu entnehmen\n",
    "df_set.to_csv(\"dair_ai_emotion.csv\", index=False)"
   ]
  },
  {
   "cell_type": "code",
   "execution_count": 103,
   "id": "c573070f-0d4a-45f4-ba14-b4d294cb8391",
   "metadata": {},
   "outputs": [],
   "source": [
    "# Laden des nun übersetzten Datasets\n",
    "df = pd.read_csv(\"dair_ai_emotion_de.csv\")"
   ]
  },
  {
   "cell_type": "code",
   "execution_count": 106,
   "id": "f2c5673e-a30f-4384-a703-0f678f9019c0",
   "metadata": {},
   "outputs": [],
   "source": [
    "# Löschen der englischen Originaltexte\n",
    "df = df.drop(['Unnamed: 0', 'text'], axis=1)"
   ]
  },
  {
   "cell_type": "code",
   "execution_count": 109,
   "id": "a66b3193-5d0f-4ef2-9255-d868c55e9338",
   "metadata": {},
   "outputs": [],
   "source": [
    "# Umstellen der Spalten\n",
    "df = df[['text_de', 'label']]"
   ]
  },
  {
   "cell_type": "code",
   "execution_count": 111,
   "id": "3f62c120-0ade-4258-84d9-c76c1aa585d5",
   "metadata": {},
   "outputs": [],
   "source": [
    "# Umbenennung der Spalte \"text_de\" zu \"text\"\n",
    "df = df.rename(columns={\"text_de\": \"text\"})"
   ]
  },
  {
   "cell_type": "code",
   "execution_count": 1,
   "id": "dbe4a421-b20d-40a6-b05a-d5196affe2cc",
   "metadata": {},
   "outputs": [
    {
     "ename": "NameError",
     "evalue": "name 'df' is not defined",
     "output_type": "error",
     "traceback": [
      "\u001b[1;31m---------------------------------------------------------------------------\u001b[0m",
      "\u001b[1;31mNameError\u001b[0m                                 Traceback (most recent call last)",
      "Cell \u001b[1;32mIn[1], line 2\u001b[0m\n\u001b[0;32m      1\u001b[0m \u001b[38;5;66;03m# Speichern des überarbeiteten Datensatzes\u001b[39;00m\n\u001b[1;32m----> 2\u001b[0m df\u001b[38;5;241m.\u001b[39mto_csv(\u001b[38;5;124m\"\u001b[39m\u001b[38;5;124mdair_ai_emotion_de.csv\u001b[39m\u001b[38;5;124m\"\u001b[39m, index\u001b[38;5;241m=\u001b[39m\u001b[38;5;28;01mFalse\u001b[39;00m)\n",
      "\u001b[1;31mNameError\u001b[0m: name 'df' is not defined"
     ]
    }
   ],
   "source": [
    "# Speichern des überarbeiteten Datensatzes\n",
    "df.to_csv(\"dair_ai_emotion_de.csv\", index=False)"
   ]
  },
  {
   "cell_type": "code",
   "execution_count": 3,
   "id": "d73cd875-8af7-41b0-8649-4cabdff1667c",
   "metadata": {},
   "outputs": [],
   "source": [
    "# Laden des Datensatzes als Huggingface Dataset\n",
    "dataset = load_dataset('csv', data_files='dair_ai_emotion_de.csv')"
   ]
  },
  {
   "cell_type": "code",
   "execution_count": 4,
   "id": "f6cb1746-2393-463b-b510-d5fe111f5c4e",
   "metadata": {},
   "outputs": [
    {
     "data": {
      "text/plain": [
       "DatasetDict({\n",
       "    train: Dataset({\n",
       "        features: ['text', 'label'],\n",
       "        num_rows: 34000\n",
       "    })\n",
       "})"
      ]
     },
     "execution_count": 4,
     "metadata": {},
     "output_type": "execute_result"
    }
   ],
   "source": [
    "dataset"
   ]
  },
  {
   "cell_type": "code",
   "execution_count": 7,
   "id": "8f608051-2ac2-4985-adef-a24694a2dfe1",
   "metadata": {},
   "outputs": [
    {
     "name": "stdout",
     "output_type": "stream",
     "text": [
      "Trainingsset: 27200 Zeilen\n",
      "Testset: 3400 Zeilen\n",
      "Validierungsset: 3400 Zeilen\n"
     ]
    },
    {
     "data": {
      "application/vnd.jupyter.widget-view+json": {
       "model_id": "2543d5e3a43545fea528a0152314df41",
       "version_major": 2,
       "version_minor": 0
      },
      "text/plain": [
       "Saving the dataset (0/1 shards):   0%|          | 0/27200 [00:00<?, ? examples/s]"
      ]
     },
     "metadata": {},
     "output_type": "display_data"
    },
    {
     "data": {
      "application/vnd.jupyter.widget-view+json": {
       "model_id": "a7159c12e88f46d890f466f6446cc16e",
       "version_major": 2,
       "version_minor": 0
      },
      "text/plain": [
       "Saving the dataset (0/1 shards):   0%|          | 0/3400 [00:00<?, ? examples/s]"
      ]
     },
     "metadata": {},
     "output_type": "display_data"
    },
    {
     "data": {
      "application/vnd.jupyter.widget-view+json": {
       "model_id": "6dee142027a34b128387cdf0994a3056",
       "version_major": 2,
       "version_minor": 0
      },
      "text/plain": [
       "Saving the dataset (0/1 shards):   0%|          | 0/3400 [00:00<?, ? examples/s]"
      ]
     },
     "metadata": {},
     "output_type": "display_data"
    }
   ],
   "source": [
    "train_testval_split = dataset[\"train\"].train_test_split(test_size=0.2)\n",
    "test_val_split = train_testval_split['test'].train_test_split(test_size=0.5)\n",
    "splitted_dataset = DatasetDict({\n",
    "    'train': train_testval_split['train'],\n",
    "    'test': test_val_split['test'],\n",
    "    'validation': test_val_split['train']\n",
    "})\n",
    "\n",
    "print(f\"Trainingsset: {splitted_dataset['train'].num_rows} Zeilen\")\n",
    "print(f\"Testset: {splitted_dataset['test'].num_rows} Zeilen\")\n",
    "print(f\"Validierungsset: {splitted_dataset['validation'].num_rows} Zeilen\")\n",
    "\n",
    "save_path = \"dair-ai-amotion-de-test-train-val\"\n",
    "\n",
    "splitted_dataset.save_to_disk(save_path)\n"
   ]
  },
  {
   "cell_type": "code",
   "execution_count": 200,
   "id": "47c99396-685b-4c9c-aa6f-f90cb6f3e027",
   "metadata": {},
   "outputs": [],
   "source": [
    "train_test_split = dataset['train'].train_test_split(test_size=0.2)"
   ]
  },
  {
   "cell_type": "code",
   "execution_count": 202,
   "id": "3e6d4add-ad6e-4f05-9d4a-88c69956b3cd",
   "metadata": {},
   "outputs": [
    {
     "data": {
      "application/vnd.jupyter.widget-view+json": {
       "model_id": "ba9f4c8f7dfb4ca6a86709da8f889916",
       "version_major": 2,
       "version_minor": 0
      },
      "text/plain": [
       "Saving the dataset (0/1 shards):   0%|          | 0/27200 [00:00<?, ? examples/s]"
      ]
     },
     "metadata": {},
     "output_type": "display_data"
    },
    {
     "data": {
      "application/vnd.jupyter.widget-view+json": {
       "model_id": "842debfa54ac4117b8030dc73592f17e",
       "version_major": 2,
       "version_minor": 0
      },
      "text/plain": [
       "Saving the dataset (0/1 shards):   0%|          | 0/6800 [00:00<?, ? examples/s]"
      ]
     },
     "metadata": {},
     "output_type": "display_data"
    }
   ],
   "source": [
    "train_test_split.save_to_disk('C:/Users/JGras/instagram-topics/instagram-topics/Data/dair-ai-emotion-de-test-train')"
   ]
  },
  {
   "cell_type": "code",
   "execution_count": 148,
   "id": "3730b38c-7ae9-4844-9396-4d5c087f7c41",
   "metadata": {},
   "outputs": [],
   "source": [
    "final_splits = {\n",
    "    'train': train_val_split['train'],\n",
    "    'test': train_test_split['test'],\n",
    "    'validation': train_val_split['test']\n",
    "}"
   ]
  },
  {
   "cell_type": "code",
   "execution_count": 153,
   "id": "4702e4a2-8978-43e1-a30d-6c64a101d3fb",
   "metadata": {},
   "outputs": [],
   "source": [
    "dataset_dict = datasets.DatasetDict({\n",
    "    'train': train_dataset,\n",
    "    'validation': validation_dataset,\n",
    "    'test': test_dataset\n",
    "})"
   ]
  },
  {
   "cell_type": "code",
   "execution_count": 184,
   "id": "80cc7150-4738-4579-9156-71cde7bf548f",
   "metadata": {},
   "outputs": [],
   "source": [
    "all_datasets = [dataset_dict[split] for split in dataset_dict.keys()]"
   ]
  },
  {
   "cell_type": "code",
   "execution_count": 188,
   "id": "d42d7ceb-dc6a-4363-8e90-918b4d19f177",
   "metadata": {},
   "outputs": [],
   "source": [
    "combined_dataset = concatenate_datasets(all_datasets)"
   ]
  },
  {
   "cell_type": "code",
   "execution_count": 190,
   "id": "ca69d787-b372-4d79-a5f6-934da5ffd824",
   "metadata": {},
   "outputs": [
    {
     "data": {
      "application/vnd.jupyter.widget-view+json": {
       "model_id": "ca980311707a49e8a644037ea409df03",
       "version_major": 2,
       "version_minor": 0
      },
      "text/plain": [
       "Saving the dataset (0/1 shards):   0%|          | 0/34000 [00:00<?, ? examples/s]"
      ]
     },
     "metadata": {},
     "output_type": "display_data"
    }
   ],
   "source": [
    "combined_dataset.save_to_disk('C:/Users/JGras/instagram-topics/instagram-topics/Data/dair-ai-emotion-de')"
   ]
  },
  {
   "cell_type": "code",
   "execution_count": 193,
   "id": "478e26fd-7609-4371-b952-a895f9f4d5d9",
   "metadata": {},
   "outputs": [],
   "source": [
    "emotion_dataset = Dataset.load_from_disk('C:/Users/JGras/instagram-topics/instagram-topics/Data/dair-ai-emotion-de')"
   ]
  },
  {
   "cell_type": "code",
   "execution_count": 127,
   "id": "f8b36a8b-87c9-4cdd-a5cc-8b7944764301",
   "metadata": {},
   "outputs": [],
   "source": [
    "train_dataset = final_splits['train']\n",
    "test_dataset = final_splits['test']\n",
    "validation_dataset = final_splits['validation']"
   ]
  },
  {
   "cell_type": "code",
   "execution_count": 142,
   "id": "f887e0b2-4605-4008-bf88-1be8c40cce49",
   "metadata": {},
   "outputs": [
    {
     "data": {
      "text/plain": [
       "{'text': 'Ich habe gestern einige Zeit in der Schule verbracht, mit Leuten gesprochen und Fotos von meinen Töchtern gemacht, während sie den Spaß am letzten Schultag genossen haben. Ich bin beeindruckt und glücklich davon weggegangen, was ehrlich gesagt mein übliches Gefühl für diesen Ort ist.',\n",
       " 'label': 5}"
      ]
     },
     "execution_count": 142,
     "metadata": {},
     "output_type": "execute_result"
    }
   ],
   "source": [
    "train_dataset[5]"
   ]
  }
 ],
 "metadata": {
  "kernelspec": {
   "display_name": "Python 3 (ipykernel)",
   "language": "python",
   "name": "python3"
  },
  "language_info": {
   "codemirror_mode": {
    "name": "ipython",
    "version": 3
   },
   "file_extension": ".py",
   "mimetype": "text/x-python",
   "name": "python",
   "nbconvert_exporter": "python",
   "pygments_lexer": "ipython3",
   "version": "3.11.7"
  }
 },
 "nbformat": 4,
 "nbformat_minor": 5
}
