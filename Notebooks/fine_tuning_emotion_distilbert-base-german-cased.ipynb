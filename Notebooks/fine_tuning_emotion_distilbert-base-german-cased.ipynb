{
 "cells": [
  {
   "cell_type": "code",
   "execution_count": 1,
   "id": "d47b46f3-b101-4c65-b287-50c720a341c9",
   "metadata": {},
   "outputs": [],
   "source": [
    "import datasets\n",
    "import torch\n",
    "import evaluate\n",
    "from datasets import load_dataset\n",
    "from transformers import pipeline\n",
    "from transformers import Trainer, TrainingArguments\n",
    "from transformers import AutoTokenizer, DataCollatorWithPadding\n",
    "from transformers import AutoModelForSequenceClassification\n",
    "from sklearn.metrics import accuracy_score, f1_score, precision_score, recall_score"
   ]
  },
  {
   "cell_type": "code",
   "execution_count": 2,
   "id": "d0e0d9e0-5616-4a14-a30e-ca9abefaed69",
   "metadata": {},
   "outputs": [],
   "source": [
    "emotion_dataset = datasets.load_from_disk('C:/Users/JGras/instagram-topics/instagram-topics/Data/dair-ai-amotion-de-test-train-val')"
   ]
  },
  {
   "cell_type": "code",
   "execution_count": 3,
   "id": "ef20b2d9-ff7a-411d-8b60-454883d59cc3",
   "metadata": {},
   "outputs": [],
   "source": [
    "checkpoint = \"distilbert/distilbert-base-german-cased\"\n",
    "tokenizer = AutoTokenizer.from_pretrained(checkpoint)"
   ]
  },
  {
   "cell_type": "code",
   "execution_count": 4,
   "id": "6f22cb2e-a69d-47b8-aa3a-186f6ed9d20a",
   "metadata": {},
   "outputs": [],
   "source": [
    "def tokenize_function(sample):\n",
    "  return tokenizer(sample[\"text\"], truncation=True)"
   ]
  },
  {
   "cell_type": "code",
   "execution_count": 5,
   "id": "4d973beb-414b-4e58-b500-e027b5175142",
   "metadata": {},
   "outputs": [
    {
     "data": {
      "application/vnd.jupyter.widget-view+json": {
       "model_id": "3708084b65d8484eb7aacf7fb4023eb0",
       "version_major": 2,
       "version_minor": 0
      },
      "text/plain": [
       "Map:   0%|          | 0/27200 [00:00<?, ? examples/s]"
      ]
     },
     "metadata": {},
     "output_type": "display_data"
    },
    {
     "name": "stderr",
     "output_type": "stream",
     "text": [
      "Asking to truncate to max_length but no maximum length is provided and the model has no predefined maximum length. Default to no truncation.\n"
     ]
    },
    {
     "data": {
      "application/vnd.jupyter.widget-view+json": {
       "model_id": "e79e8a90b0b8437b8b058f8506a9bf6e",
       "version_major": 2,
       "version_minor": 0
      },
      "text/plain": [
       "Map:   0%|          | 0/3400 [00:00<?, ? examples/s]"
      ]
     },
     "metadata": {},
     "output_type": "display_data"
    },
    {
     "data": {
      "application/vnd.jupyter.widget-view+json": {
       "model_id": "c97c465bc22d41349a74fef06f8757b2",
       "version_major": 2,
       "version_minor": 0
      },
      "text/plain": [
       "Map:   0%|          | 0/3400 [00:00<?, ? examples/s]"
      ]
     },
     "metadata": {},
     "output_type": "display_data"
    }
   ],
   "source": [
    "tokenized_datasets = emotion_dataset.map(tokenize_function, batched=True)"
   ]
  },
  {
   "cell_type": "code",
   "execution_count": 7,
   "id": "8feb6ac9-2e35-4397-975b-422159c0adbe",
   "metadata": {},
   "outputs": [],
   "source": [
    "data_collator = DataCollatorWithPadding(tokenizer=tokenizer)"
   ]
  },
  {
   "cell_type": "code",
   "execution_count": 8,
   "id": "485240d0-30ab-4e1d-91f6-f9bad2722527",
   "metadata": {},
   "outputs": [
    {
     "data": {
      "application/vnd.jupyter.widget-view+json": {
       "model_id": "42742c328d694743a66f8164d0f90338",
       "version_major": 2,
       "version_minor": 0
      },
      "text/plain": [
       "model.safetensors:   0%|          | 0.00/270M [00:00<?, ?B/s]"
      ]
     },
     "metadata": {},
     "output_type": "display_data"
    },
    {
     "name": "stderr",
     "output_type": "stream",
     "text": [
      "C:\\Users\\JGras\\anaconda3\\Lib\\site-packages\\huggingface_hub\\file_download.py:149: UserWarning: `huggingface_hub` cache-system uses symlinks by default to efficiently store duplicated files but your machine does not support them in C:\\Users\\JGras\\.cache\\huggingface\\hub\\models--distilbert--distilbert-base-german-cased. Caching files will still work but in a degraded version that might require more space on your disk. This warning can be disabled by setting the `HF_HUB_DISABLE_SYMLINKS_WARNING` environment variable. For more details, see https://huggingface.co/docs/huggingface_hub/how-to-cache#limitations.\n",
      "To support symlinks on Windows, you either need to activate Developer Mode or to run Python as an administrator. In order to see activate developer mode, see this article: https://docs.microsoft.com/en-us/windows/apps/get-started/enable-your-device-for-development\n",
      "  warnings.warn(message)\n",
      "Some weights of DistilBertForSequenceClassification were not initialized from the model checkpoint at distilbert/distilbert-base-german-cased and are newly initialized: ['classifier.bias', 'classifier.weight', 'pre_classifier.bias', 'pre_classifier.weight']\n",
      "You should probably TRAIN this model on a down-stream task to be able to use it for predictions and inference.\n"
     ]
    }
   ],
   "source": [
    "model = AutoModelForSequenceClassification.from_pretrained(checkpoint, num_labels=6)"
   ]
  },
  {
   "cell_type": "code",
   "execution_count": 9,
   "id": "9c6fc2db-9ce7-4264-b93b-a2c5d301a4b8",
   "metadata": {},
   "outputs": [],
   "source": [
    "def compute_metrics(pred):\n",
    "  # pred ist vom Typ EvalPrediction. Daher können wir auf die\n",
    "  # label_ids als auch auf die predictions zugreifen\n",
    "  labels = pred.label_ids\n",
    "  # argmax gibt den Arrayindex mit der größten Nummer zurück \n",
    "  # dadurch wissen wir, welches Sentiment vorhergesagt wurde\n",
    "  preds = pred.predictions.argmax(-1)\n",
    "  f1 = f1_score(labels, preds, average=\"macro\")\n",
    "  acc = accuracy_score(labels, preds)\n",
    "  precision = precision_score(labels, preds, average=\"macro\")\n",
    "  recall = recall_score(labels, preds, average=\"macro\")\n",
    "  return {\"precision\": precision, \"recall\": recall, \"acc\": acc, \"f1\": f1}"
   ]
  },
  {
   "cell_type": "code",
   "execution_count": 10,
   "id": "3ba273a6-3479-4b88-ac20-1de375b58244",
   "metadata": {},
   "outputs": [],
   "source": [
    "batch_size = 8\n",
    "logging_steps = len(tokenized_datasets[\"train\"]) // batch_size\n",
    "model_name = f\"{checkpoint}-dair-ai-de-emotion-finetuned\"\n",
    "training_args = TrainingArguments(output_dir = model_name, \n",
    "                                  num_train_epochs = 4, # Anzahl der Epochen, d.h. Trainingsdurchläufe\n",
    "                                  learning_rate = 4e-5, # Lernrate: setzt man normalerweise immer auf 1e-5/2e-5/3e-5/4e-5\n",
    "                                  per_device_train_batch_size = batch_size,\n",
    "                                  per_device_eval_batch_size = batch_size,\n",
    "                                  evaluation_strategy=\"epoch\", # Evaluierung nach jeder Epoche\n",
    "                                  disable_tqdm = False, # Fortschrittsbalken wird angezeigt\n",
    "                                  logging_steps = logging_steps, # Anzahl der Updateschritte zwischen zwei Logs\n",
    "                                  log_level=\"error\")"
   ]
  },
  {
   "cell_type": "code",
   "execution_count": 11,
   "id": "bd0ca473-44e4-4f10-a252-c12061c70e3b",
   "metadata": {},
   "outputs": [],
   "source": [
    "train_dataset = tokenized_datasets[\"train\"].shuffle().select(range(13600))\n",
    "test_dataset = tokenized_datasets[\"test\"].shuffle(42).select(range(3000))"
   ]
  },
  {
   "cell_type": "code",
   "execution_count": 12,
   "id": "f6811122-a898-49c3-87f5-4be07ed72e74",
   "metadata": {},
   "outputs": [],
   "source": [
    "trainer = Trainer(\n",
    "    model=model,\n",
    "    args=training_args,\n",
    "    compute_metrics=compute_metrics,\n",
    "    train_dataset=train_dataset,\n",
    "    eval_dataset=test_dataset,\n",
    "    data_collator=data_collator,\n",
    "    tokenizer=tokenizer,\n",
    ")"
   ]
  },
  {
   "cell_type": "code",
   "execution_count": 13,
   "id": "e5614428-2187-49e3-ab5a-ee4bf50c4280",
   "metadata": {},
   "outputs": [
    {
     "data": {
      "text/html": [
       "\n",
       "    <div>\n",
       "      \n",
       "      <progress value='6800' max='6800' style='width:300px; height:20px; vertical-align: middle;'></progress>\n",
       "      [6800/6800 09:12, Epoch 4/4]\n",
       "    </div>\n",
       "    <table border=\"1\" class=\"dataframe\">\n",
       "  <thead>\n",
       " <tr style=\"text-align: left;\">\n",
       "      <th>Epoch</th>\n",
       "      <th>Training Loss</th>\n",
       "      <th>Validation Loss</th>\n",
       "      <th>Precision</th>\n",
       "      <th>Recall</th>\n",
       "      <th>Acc</th>\n",
       "      <th>F1</th>\n",
       "    </tr>\n",
       "  </thead>\n",
       "  <tbody>\n",
       "    <tr>\n",
       "      <td>1</td>\n",
       "      <td>No log</td>\n",
       "      <td>0.480986</td>\n",
       "      <td>0.814699</td>\n",
       "      <td>0.797002</td>\n",
       "      <td>0.851667</td>\n",
       "      <td>0.802740</td>\n",
       "    </tr>\n",
       "    <tr>\n",
       "      <td>2</td>\n",
       "      <td>0.526100</td>\n",
       "      <td>0.451948</td>\n",
       "      <td>0.818384</td>\n",
       "      <td>0.853106</td>\n",
       "      <td>0.872333</td>\n",
       "      <td>0.832954</td>\n",
       "    </tr>\n",
       "    <tr>\n",
       "      <td>3</td>\n",
       "      <td>0.526100</td>\n",
       "      <td>0.525375</td>\n",
       "      <td>0.831297</td>\n",
       "      <td>0.843538</td>\n",
       "      <td>0.880333</td>\n",
       "      <td>0.837095</td>\n",
       "    </tr>\n",
       "    <tr>\n",
       "      <td>4</td>\n",
       "      <td>0.177800</td>\n",
       "      <td>0.554152</td>\n",
       "      <td>0.850377</td>\n",
       "      <td>0.845027</td>\n",
       "      <td>0.888000</td>\n",
       "      <td>0.847466</td>\n",
       "    </tr>\n",
       "  </tbody>\n",
       "</table><p>"
      ],
      "text/plain": [
       "<IPython.core.display.HTML object>"
      ]
     },
     "metadata": {},
     "output_type": "display_data"
    },
    {
     "data": {
      "text/plain": [
       "TrainOutput(global_step=6800, training_loss=0.35195834889131433, metrics={'train_runtime': 553.5894, 'train_samples_per_second': 98.268, 'train_steps_per_second': 12.283, 'total_flos': 732319596747072.0, 'train_loss': 0.35195834889131433, 'epoch': 4.0})"
      ]
     },
     "execution_count": 13,
     "metadata": {},
     "output_type": "execute_result"
    }
   ],
   "source": [
    "trainer.train()"
   ]
  },
  {
   "cell_type": "code",
   "execution_count": 14,
   "id": "c8af1554-9e49-440f-b920-a9c2bf4ed865",
   "metadata": {},
   "outputs": [
    {
     "data": {
      "text/html": [
       "\n",
       "    <div>\n",
       "      \n",
       "      <progress value='425' max='425' style='width:300px; height:20px; vertical-align: middle;'></progress>\n",
       "      [425/425 00:06]\n",
       "    </div>\n",
       "    "
      ],
      "text/plain": [
       "<IPython.core.display.HTML object>"
      ]
     },
     "metadata": {},
     "output_type": "display_data"
    }
   ],
   "source": [
    "eval = trainer.evaluate(eval_dataset=tokenized_datasets['validation'])"
   ]
  },
  {
   "cell_type": "code",
   "execution_count": 17,
   "id": "69e92212-8161-49e6-9e70-63a3b46819d1",
   "metadata": {},
   "outputs": [
    {
     "data": {
      "text/plain": [
       "WindowsPath('results/result-2024_03_31-14_44_05.json')"
      ]
     },
     "execution_count": 17,
     "metadata": {},
     "output_type": "execute_result"
    }
   ],
   "source": [
    "result = eval\n",
    "params = {\"model\": \"distilbert-base-german-cased\"}\n",
    "evaluate.save(\"./results/\", **result, **params)"
   ]
  },
  {
   "cell_type": "code",
   "execution_count": 16,
   "id": "11972744-b907-4184-9e21-0d6df0908707",
   "metadata": {},
   "outputs": [],
   "source": [
    "trainer.save_model('distilbert-base-german-cased-dair-ai-emotion-de-finetuned')"
   ]
  }
 ],
 "metadata": {
  "kernelspec": {
   "display_name": "Python 3 (ipykernel)",
   "language": "python",
   "name": "python3"
  },
  "language_info": {
   "codemirror_mode": {
    "name": "ipython",
    "version": 3
   },
   "file_extension": ".py",
   "mimetype": "text/x-python",
   "name": "python",
   "nbconvert_exporter": "python",
   "pygments_lexer": "ipython3",
   "version": "3.11.7"
  }
 },
 "nbformat": 4,
 "nbformat_minor": 5
}
