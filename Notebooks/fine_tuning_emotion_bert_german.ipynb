{
 "cells": [
  {
   "cell_type": "code",
   "execution_count": 1,
   "id": "8a76c5f7-d338-4001-bf6a-dbabd184ed4f",
   "metadata": {},
   "outputs": [],
   "source": [
    "import datasets\n",
    "import torch\n",
    "import evaluate\n",
    "from datasets import load_dataset\n",
    "from transformers import pipeline\n",
    "from transformers import Trainer, TrainingArguments\n",
    "from transformers import AutoTokenizer, DataCollatorWithPadding\n",
    "from transformers import AutoModelForSequenceClassification\n",
    "from sklearn.metrics import accuracy_score, f1_score, precision_score, recall_score"
   ]
  },
  {
   "cell_type": "code",
   "execution_count": 2,
   "id": "d43c4333-6e39-4f9b-afc6-3b745cc2dbba",
   "metadata": {},
   "outputs": [],
   "source": [
    "emotion_dataset = datasets.load_from_disk('C:/Users/JGras/instagram-topics/instagram-topics/Data/dair-ai-amotion-de-test-train-val')"
   ]
  },
  {
   "cell_type": "code",
   "execution_count": 3,
   "id": "5e5ba3f1-f97a-4d77-b18b-3e616cdd2950",
   "metadata": {},
   "outputs": [
    {
     "data": {
      "text/plain": [
       "DatasetDict({\n",
       "    train: Dataset({\n",
       "        features: ['text', 'label'],\n",
       "        num_rows: 27200\n",
       "    })\n",
       "    test: Dataset({\n",
       "        features: ['text', 'label'],\n",
       "        num_rows: 3400\n",
       "    })\n",
       "    validation: Dataset({\n",
       "        features: ['text', 'label'],\n",
       "        num_rows: 3400\n",
       "    })\n",
       "})"
      ]
     },
     "execution_count": 3,
     "metadata": {},
     "output_type": "execute_result"
    }
   ],
   "source": [
    "emotion_dataset"
   ]
  },
  {
   "cell_type": "code",
   "execution_count": 4,
   "id": "72382954-15f9-49fc-819b-3c7676769475",
   "metadata": {},
   "outputs": [],
   "source": [
    "checkpoint = \"google-bert/bert-base-german-cased\"\n",
    "tokenizer = AutoTokenizer.from_pretrained(checkpoint)"
   ]
  },
  {
   "cell_type": "code",
   "execution_count": 5,
   "id": "2943cd46-fd44-4f69-a1fa-47b437b9263c",
   "metadata": {},
   "outputs": [],
   "source": [
    "def tokenize_function(sample):\n",
    "  return tokenizer(sample[\"text\"], truncation=True)"
   ]
  },
  {
   "cell_type": "code",
   "execution_count": 6,
   "id": "610c20d5-05e5-4490-8ab9-6133a238bdaf",
   "metadata": {},
   "outputs": [],
   "source": [
    "tokenized_datasets = emotion_dataset.map(tokenize_function, batched=True)"
   ]
  },
  {
   "cell_type": "code",
   "execution_count": 7,
   "id": "9058c2d0-4520-4783-8f31-f45903542103",
   "metadata": {},
   "outputs": [],
   "source": [
    "data_collator = DataCollatorWithPadding(tokenizer=tokenizer)"
   ]
  },
  {
   "cell_type": "code",
   "execution_count": 8,
   "id": "52ef6622-eae6-443e-94e3-b9a2e426b074",
   "metadata": {},
   "outputs": [
    {
     "name": "stderr",
     "output_type": "stream",
     "text": [
      "Some weights of BertForSequenceClassification were not initialized from the model checkpoint at google-bert/bert-base-german-cased and are newly initialized: ['classifier.bias', 'classifier.weight']\n",
      "You should probably TRAIN this model on a down-stream task to be able to use it for predictions and inference.\n"
     ]
    }
   ],
   "source": [
    "model = AutoModelForSequenceClassification.from_pretrained(checkpoint, num_labels=6)"
   ]
  },
  {
   "cell_type": "code",
   "execution_count": 9,
   "id": "50596347-6386-42aa-8fb9-35d606b58fb1",
   "metadata": {},
   "outputs": [],
   "source": [
    "def compute_metrics(pred):\n",
    "  # pred ist vom Typ EvalPrediction. Daher können wir auf die\n",
    "  # label_ids als auch auf die predictions zugreifen\n",
    "  labels = pred.label_ids\n",
    "  # argmax gibt den Arrayindex mit der größten Nummer zurück \n",
    "  # dadurch wissen wir, welches Sentiment vorhergesagt wurde\n",
    "  preds = pred.predictions.argmax(-1)\n",
    "  f1 = f1_score(labels, preds, average=\"macro\")\n",
    "  acc = accuracy_score(labels, preds)\n",
    "  precision = precision_score(labels, preds, average=\"macro\")\n",
    "  recall = recall_score(labels, preds, average=\"macro\")\n",
    "  return {\"precision\": precision, \"recall\": recall, \"acc\": acc, \"f1\": f1}"
   ]
  },
  {
   "cell_type": "code",
   "execution_count": 10,
   "id": "f9111c9a-9ba1-461e-8f1f-1b3f44f7f0f3",
   "metadata": {},
   "outputs": [],
   "source": [
    "batch_size = 8\n",
    "logging_steps = len(tokenized_datasets[\"train\"]) // batch_size\n",
    "model_name = f\"{checkpoint}-dair-ai-de-emotion-finetuned\"\n",
    "training_args = TrainingArguments(output_dir = model_name, \n",
    "                                  num_train_epochs = 4, # Anzahl der Epochen, d.h. Trainingsdurchläufe\n",
    "                                  learning_rate = 4e-5, # Lernrate: setzt man normalerweise immer auf 1e-5/2e-5/3e-5/4e-5\n",
    "                                  per_device_train_batch_size = batch_size,\n",
    "                                  per_device_eval_batch_size = batch_size,\n",
    "                                  evaluation_strategy=\"epoch\", # Evaluierung nach jeder Epoche\n",
    "                                  disable_tqdm = False, # Fortschrittsbalken wird angezeigt\n",
    "                                  logging_steps = logging_steps, # Anzahl der Updateschritte zwischen zwei Logs\n",
    "                                  log_level=\"error\")"
   ]
  },
  {
   "cell_type": "code",
   "execution_count": 11,
   "id": "bc07bd8b-5fe5-4055-8f6d-1ebb7e13f5fd",
   "metadata": {},
   "outputs": [],
   "source": [
    "train_dataset = tokenized_datasets[\"train\"].shuffle().select(range(13600))\n",
    "test_dataset = tokenized_datasets[\"test\"].shuffle(42).select(range(3000))"
   ]
  },
  {
   "cell_type": "code",
   "execution_count": 12,
   "id": "3644d542-9d34-4310-85dd-600db7a56f08",
   "metadata": {},
   "outputs": [],
   "source": [
    "trainer = Trainer(\n",
    "    model=model,\n",
    "    args=training_args,\n",
    "    compute_metrics=compute_metrics,\n",
    "    train_dataset=train_dataset,\n",
    "    eval_dataset=test_dataset,\n",
    "    data_collator=data_collator,\n",
    "    tokenizer=tokenizer,\n",
    ")"
   ]
  },
  {
   "cell_type": "code",
   "execution_count": 13,
   "id": "72b16f53-928d-4171-9ed2-cdfa9b6560a4",
   "metadata": {},
   "outputs": [
    {
     "data": {
      "text/html": [
       "\n",
       "    <div>\n",
       "      \n",
       "      <progress value='6800' max='6800' style='width:300px; height:20px; vertical-align: middle;'></progress>\n",
       "      [6800/6800 16:24, Epoch 4/4]\n",
       "    </div>\n",
       "    <table border=\"1\" class=\"dataframe\">\n",
       "  <thead>\n",
       " <tr style=\"text-align: left;\">\n",
       "      <th>Epoch</th>\n",
       "      <th>Training Loss</th>\n",
       "      <th>Validation Loss</th>\n",
       "      <th>Precision</th>\n",
       "      <th>Recall</th>\n",
       "      <th>Acc</th>\n",
       "      <th>F1</th>\n",
       "    </tr>\n",
       "  </thead>\n",
       "  <tbody>\n",
       "    <tr>\n",
       "      <td>1</td>\n",
       "      <td>No log</td>\n",
       "      <td>0.464199</td>\n",
       "      <td>0.805639</td>\n",
       "      <td>0.794691</td>\n",
       "      <td>0.846667</td>\n",
       "      <td>0.797273</td>\n",
       "    </tr>\n",
       "    <tr>\n",
       "      <td>2</td>\n",
       "      <td>0.513900</td>\n",
       "      <td>0.434948</td>\n",
       "      <td>0.846881</td>\n",
       "      <td>0.823805</td>\n",
       "      <td>0.880000</td>\n",
       "      <td>0.830685</td>\n",
       "    </tr>\n",
       "    <tr>\n",
       "      <td>3</td>\n",
       "      <td>0.513900</td>\n",
       "      <td>0.407770</td>\n",
       "      <td>0.859785</td>\n",
       "      <td>0.856770</td>\n",
       "      <td>0.896667</td>\n",
       "      <td>0.858032</td>\n",
       "    </tr>\n",
       "    <tr>\n",
       "      <td>4</td>\n",
       "      <td>0.169400</td>\n",
       "      <td>0.480041</td>\n",
       "      <td>0.849810</td>\n",
       "      <td>0.856126</td>\n",
       "      <td>0.895000</td>\n",
       "      <td>0.852647</td>\n",
       "    </tr>\n",
       "  </tbody>\n",
       "</table><p>"
      ],
      "text/plain": [
       "<IPython.core.display.HTML object>"
      ]
     },
     "metadata": {},
     "output_type": "display_data"
    },
    {
     "data": {
      "text/plain": [
       "TrainOutput(global_step=6800, training_loss=0.3416731980267693, metrics={'train_runtime': 984.4412, 'train_samples_per_second': 55.26, 'train_steps_per_second': 6.907, 'total_flos': 1478457671619456.0, 'train_loss': 0.3416731980267693, 'epoch': 4.0})"
      ]
     },
     "execution_count": 13,
     "metadata": {},
     "output_type": "execute_result"
    }
   ],
   "source": [
    "trainer.train()"
   ]
  },
  {
   "cell_type": "code",
   "execution_count": 22,
   "id": "fcc1cbb9-fd97-4da1-ab86-9488d3626fec",
   "metadata": {},
   "outputs": [],
   "source": [
    "eval = trainer.evaluate(eval_dataset=tokenized_datasets['validation'])"
   ]
  },
  {
   "cell_type": "code",
   "execution_count": 23,
   "id": "c7cbb554-88f6-48d7-94d5-e25c3ec30057",
   "metadata": {},
   "outputs": [
    {
     "data": {
      "text/plain": [
       "WindowsPath('results/result-2024_03_31-14_07_20.json')"
      ]
     },
     "execution_count": 23,
     "metadata": {},
     "output_type": "execute_result"
    }
   ],
   "source": [
    "result = eval\n",
    "params = {\"model\": \"bert-base-german-cased\"}\n",
    "evaluate.save(\"./results/\", **result, **params)"
   ]
  },
  {
   "cell_type": "code",
   "execution_count": 20,
   "id": "d5faf227-bc3e-40d7-bdf2-2713a178d6d5",
   "metadata": {},
   "outputs": [],
   "source": [
    "trainer.save_model('bert-base-german-cased-dair-ai-emotion-de-finetuned')"
   ]
  },
  {
   "cell_type": "code",
   "execution_count": 17,
   "id": "714c635b-4795-40ff-b9ab-45449b656afd",
   "metadata": {},
   "outputs": [],
   "source": [
    "#emotion_finetuned_pipe = pipeline(\"text-classification\", model=\"bert-base-german-finetuned-cased-dair-ai-emotion-de\")"
   ]
  },
  {
   "cell_type": "code",
   "execution_count": 18,
   "id": "9b0143a3-3e70-4000-b358-18c7c2936a92",
   "metadata": {},
   "outputs": [],
   "source": [
    "#emotion_finetuned_pipe(text)"
   ]
  }
 ],
 "metadata": {
  "kernelspec": {
   "display_name": "Python 3 (ipykernel)",
   "language": "python",
   "name": "python3"
  },
  "language_info": {
   "codemirror_mode": {
    "name": "ipython",
    "version": 3
   },
   "file_extension": ".py",
   "mimetype": "text/x-python",
   "name": "python",
   "nbconvert_exporter": "python",
   "pygments_lexer": "ipython3",
   "version": "3.11.7"
  }
 },
 "nbformat": 4,
 "nbformat_minor": 5
}
