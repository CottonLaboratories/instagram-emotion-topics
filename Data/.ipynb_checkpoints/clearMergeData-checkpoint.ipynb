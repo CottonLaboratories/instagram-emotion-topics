{
 "cells": [
  {
   "cell_type": "code",
   "execution_count": 96,
   "id": "e9ccadd6-d09e-4749-825f-f6784ccbe8fc",
   "metadata": {},
   "outputs": [],
   "source": [
    "import pandas as pd\n",
    "import ast\n",
    "import os\n",
    "\n",
    "pd.set_option('display.max_columns', None)\n",
    "pd.set_option('display.max_colwidth', None)\n",
    "pd.set_option('display.max_rows', None)\n",
    "\n",
    "folder_path = 'C:/Users/JGras/instagram-topics/instagram-topics/Data'  # Passe den Pfad zu deinem Ordner an\n",
    "json_files = [f for f in os.listdir(folder_path) if f.endswith('.ndjson')]\n",
    "\n",
    "all_data = pd.DataFrame()\n",
    "\n",
    "for json_file in json_files:\n",
    "    df = pd.read_json(os.path.join(folder_path, json_file), lines=True, dtype=str)\n",
    "    \n",
    "    df = df.loc[:, df.columns.intersection(['code','caption', 'taken_at', 'user', 'owner', 'like_count', 'view_count'])]\n",
    "\n",
    "    def extract_value(string, key):\n",
    "        try:\n",
    "            data_dict = ast.literal_eval(string)  \n",
    "            return data_dict.get(key, '')\n",
    "        except:\n",
    "            return ''\n",
    "\n",
    "    df['text'] = df['caption'].apply(lambda x: extract_value(x, 'text'))\n",
    "    df['full_name'] = df['owner'].apply(lambda x: extract_value(x, 'full_name'))\n",
    "    df['user_name'] = df['user'].apply(lambda x: extract_value(x, 'username'))\n",
    "\n",
    "    \n",
    "    df = df.loc[:, df.columns.intersection(['code','taken_at', 'like_count', 'view_count', 'text', 'full_name', 'user_name'])]\n",
    "    df = df[['user_name', 'full_name', 'text', 'taken_at', 'like_count', 'view_count', 'code']]\n",
    "    \n",
    "    df['taken_at'] = pd.to_datetime(df['taken_at'])\n",
    "    df['taken_at'] = df['taken_at'].dt.date\n",
    "    \n",
    "    # Füge den aktuellen DataFrame dem Gesamtdatensatz hinzu\n",
    "    all_data = pd.concat([all_data, df], ignore_index=True)\n",
    "\n",
    "# Speichere den Gesamtdatensatz als CSV\n",
    "all_data.to_csv('combined_dataset.csv', index=False)"
   ]
  },
  {
   "cell_type": "code",
   "execution_count": 6,
   "id": "96dd1f7d-e40c-4d97-bfdb-f0b409d6d900",
   "metadata": {},
   "outputs": [],
   "source": [
    "#all_data = pd.read_csv('combined_dataset.csv')"
   ]
  },
  {
   "cell_type": "code",
   "execution_count": 7,
   "id": "eac379ec-e99e-4612-aa71-ea5639e4ea88",
   "metadata": {},
   "outputs": [
    {
     "name": "stdout",
     "output_type": "stream",
     "text": [
      "Anzahl der verbleibenden eindeutigen full_name-Werte: 59\n",
      "Anzahl der Zeilen nach der Reduzierung: 14311\n"
     ]
    }
   ],
   "source": [
    "full_name_counts = all_data['full_name'].value_counts()\n",
    "\n",
    "to_keep = full_name_counts[full_name_counts >= 10].index\n",
    "\n",
    "reduced_data = all_data[all_data['full_name'].isin(to_keep)]\n",
    "\n",
    "print(\"Anzahl der verbleibenden eindeutigen full_name-Werte:\", reduced_data['full_name'].nunique())\n",
    "\n",
    "print(\"Anzahl der Zeilen nach der Reduzierung:\", len(reduced_data))"
   ]
  },
  {
   "cell_type": "code",
   "execution_count": 71,
   "id": "ebcd76dd-535c-4f7f-9adc-e6532c4dd66d",
   "metadata": {},
   "outputs": [],
   "source": [
    "pd.set_option('display.max_rows', None)"
   ]
  },
  {
   "cell_type": "code",
   "execution_count": 99,
   "id": "2aa7084b-2468-4ed9-8847-801f6a6bcb8b",
   "metadata": {},
   "outputs": [],
   "source": [
    "df = reduced_data"
   ]
  },
  {
   "cell_type": "code",
   "execution_count": 100,
   "id": "ee692a18-e85d-4d7d-bebb-635cc34cbb48",
   "metadata": {},
   "outputs": [
    {
     "data": {
      "text/plain": [
       "array(['Alternative für Deutschland', 'Alice Weidel', 'Annalena Baerbock',\n",
       "       'Robert Habeck', 'Olaf Scholz', 'Stephan Brandner',\n",
       "       'Marco Buschmann', 'Bundesministerium der Justiz', 'FDP',\n",
       "       'Christian Lindner', 'Volker Wissing', 'CDU Deutschlands',\n",
       "       'Friedrich Merz', 'Carsten Linnemann', 'Martin Huber',\n",
       "       'CDU/CSU-Bundestagsfraktion', 'Junge Union Deutschlands',\n",
       "       'Markus Söder', 'Christlich-Soziale Union', 'Mario Czaja',\n",
       "       'Bundesfinanzministerium', 'Tino Chrupalla',\n",
       "       'Tanja Schorer-Dremel', 'Saskia Esken', 'SPD', 'Nancy Faeser',\n",
       "       'SPD Hessen', 'Lars Klingbeil 🇪🇺', 'BÜNDNIS 90/DIE GRÜNEN',\n",
       "       'GRÜNE JUGEND', 'DGB Jugend', 'Timon Dzienus',\n",
       "       'Sarah-Lee Heinrich', 'Jusos', 'Gregor Gysi', 'BMEL',\n",
       "       'SPD-Fraktion im Bundestag', 'Hubertus Heil', 'Anton Hofreiter',\n",
       "       'Jens Spahn', 'Junge Liberale (JuLis)', 'Karl Lauterbach',\n",
       "       'Kevin Kühnert', 'Steffi Lemke', 'Bundesumweltministerium #BMUV',\n",
       "       'Die Linke', 'Janine Wissler', 'Martin Schirdewan',\n",
       "       \"Linksjugend ['solid]\", 'Cem Özdemir', 'Lisa Paus',\n",
       "       'BÜNDNIS 90/DIE GRÜNEN Charlottenburg-Wilmersdorf',\n",
       "       'Svenja Schulze', 'Bundesentwicklungsministerium',\n",
       "       'Katarina Barley', 'Bettina Stark-Watzinger', 'BMBF',\n",
       "       'Beatrix von Storch', 'Sahra Wagenknecht'], dtype=object)"
      ]
     },
     "execution_count": 100,
     "metadata": {},
     "output_type": "execute_result"
    }
   ],
   "source": [
    "df['full_name'].unique()"
   ]
  },
  {
   "cell_type": "code",
   "execution_count": 90,
   "id": "47774734-ba53-4006-859e-8cf90f1de69c",
   "metadata": {},
   "outputs": [],
   "source": [
    "polit_dict = {\n",
    "    'AfD': ['Alternative für Deutschland', 'Alice Weidel', 'Tino Chrupalla', 'Stephan Brandner', 'Beatrix von Storch'],\n",
    "    'Bündnis 90/Die Grünen': ['Annalena Baerbock', 'Robert Habeck', 'BÜNDNIS 90/DIE GRÜNEN', 'GRÜNE JUGEND', 'Timon Dzienus', 'Sarah-Lee Heinrich', 'BMEL', 'Anton Hofreiter', 'Steffi Lemke', 'Bundesumweltministerium #BMUV', 'Cem Özdemir', 'Lisa Paus', 'BÜNDNIS 90/DIE GRÜNEN Charlottenburg-Wilmersdorf'],\n",
    "    'FDP': ['Marco Buschmann', 'Bundesministerium der Justiz', 'FDP', 'Christian Lindner', 'Volker Wissing', 'Bundesfinanzministerium', 'Junge Liberale (JuLis)', 'Bettina Stark-Watzinger', 'BMBF'],\n",
    "    'Die Linke': [\"Linksjugend ['solid]\", 'Die Linke', 'Martin Schirdewan', 'Janine Wissler', 'Gregor Gysi'],\n",
    "    'SPD': ['Olaf Scholz', 'Nancy Faeser', 'SPD Hessen', 'Lars Klingbeil 🇪🇺', 'SPD', 'Jusos', 'SPD-Fraktion im Bundestag', 'Hubertus Heil', 'Karl Lauterbach', 'Saskia Esken', 'Svenja Schulze', 'Bundesentwicklungsministerium', 'Katarina Barley', 'Kevin Kühnert'],\n",
    "    'Union': ['CDU Deutschlands', 'Friedrich Merz', 'Carsten Linnemann', 'Martin Huber', 'CDU/CSU-Bundestagsfraktion', 'Junge Union Deutschlands', 'Markus Söder', 'Christlich-Soziale Union', 'Mario Czaja', 'Tanja Schorer-Dremel', 'Jens Spahn'],\n",
    "    'BSW': ['Sahra Wagenknecht'],\n",
    "    'unabhängig': ['DGB Jugend']\n",
    "}"
   ]
  },
  {
   "cell_type": "code",
   "execution_count": 103,
   "id": "733c7358-f62d-44f9-956d-29be159e9b1f",
   "metadata": {},
   "outputs": [],
   "source": [
    "for party, members in polit_dict.items():\n",
    "    df.loc[df['full_name'].isin(members), 'partei'] = party"
   ]
  },
  {
   "cell_type": "code",
   "execution_count": 8,
   "id": "77a8d307-571f-4228-ade4-28a154764f31",
   "metadata": {
    "scrolled": true
   },
   "outputs": [
    {
     "data": {
      "text/plain": [
       "partei\n",
       "Union                    4543\n",
       "SPD                      2690\n",
       "AfD                      2380\n",
       "FDP                      1922\n",
       "Bündnis 90/Die Grünen    1601\n",
       "Die Linke                 954\n",
       "BSW                       204\n",
       "unabhängig                 17\n",
       "Name: count, dtype: int64"
      ]
     },
     "execution_count": 8,
     "metadata": {},
     "output_type": "execute_result"
    }
   ],
   "source": [
    "df['partei'].value_counts()"
   ]
  },
  {
   "cell_type": "code",
   "execution_count": 10,
   "id": "ca6128b6-d208-4f2a-b9b7-ebd806d86375",
   "metadata": {},
   "outputs": [
    {
     "data": {
      "text/plain": [
       "14311"
      ]
     },
     "execution_count": 10,
     "metadata": {},
     "output_type": "execute_result"
    }
   ],
   "source": [
    "len(df)"
   ]
  },
  {
   "cell_type": "code",
   "execution_count": 118,
   "id": "5eb8007a-a3f3-48ef-b3bb-f504791e0b41",
   "metadata": {},
   "outputs": [],
   "source": [
    "df.to_csv('combined_dataset.csv', index=False)"
   ]
  }
 ],
 "metadata": {
  "kernelspec": {
   "display_name": "Python 3 (ipykernel)",
   "language": "python",
   "name": "python3"
  },
  "language_info": {
   "codemirror_mode": {
    "name": "ipython",
    "version": 3
   },
   "file_extension": ".py",
   "mimetype": "text/x-python",
   "name": "python",
   "nbconvert_exporter": "python",
   "pygments_lexer": "ipython3",
   "version": "3.11.7"
  }
 },
 "nbformat": 4,
 "nbformat_minor": 5
}
